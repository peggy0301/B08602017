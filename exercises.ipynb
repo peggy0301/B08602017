{
 "cells": [
  {
   "cell_type": "markdown",
   "metadata": {
    "deletable": false,
    "editable": false
   },
   "source": [
    "# Programming and Data Analysis\n",
    "\n",
    "> Homework 0\n",
    "\n",
    "Kuo, Yao-Jen <yaojenkuo@ntu.edu.tw> from [DATAINPOINT](https://www.datainpoint.com)"
   ]
  },
  {
   "cell_type": "markdown",
   "metadata": {
    "deletable": false,
    "editable": false
   },
   "source": [
    "## Instructions\n",
    "\n",
    "- We've imported necessary modules at the beginning of each exercise.\n",
    "- We've put necessary files(if any) in the working directory of each exercise.\n",
    "- We've defined the names of functions/inputs/parameters for you.\n",
    "- Write down your solution between the comments `### BEGIN SOLUTION` and `### END SOLUTION`.\n",
    "- It is NECESSARY to `return` the answer, tests will fail by just printing out the answer.\n",
    "- Do not use `input()` function, it will halt the notebook while running tests.\n",
    "- Running tests to see if your solutions are right: Kernel -> Restart & Run All -> Restart and Run All Cells.\n",
    "- You can run tests after each question or after finishing all questions."
   ]
  },
  {
   "cell_type": "code",
   "execution_count": 1,
   "metadata": {
    "deletable": false,
    "editable": false
   },
   "outputs": [],
   "source": [
    "import unittest"
   ]
  },
  {
   "cell_type": "markdown",
   "metadata": {},
   "source": [
    "## 01. Define a function named `convert_fahrenheit_to_celsius(x)` which converts Fahrenheit degrees to Celsius degrees.\n",
    "\n",
    "\\begin{equation}\n",
    "Celsius^{\\circ} C = (Fahrenheit^{\\circ} F - 32) \\times \\frac{5}{9}\n",
    "\\end{equation}\n",
    "\n",
    "- Expected inputs：a numeric `x`.\n",
    "- Expected outputs：a numeric."
   ]
  },
  {
   "cell_type": "code",
   "execution_count": 2,
   "metadata": {},
   "outputs": [],
   "source": [
    "def convert_fahrenheit_to_celsius(x):\n",
    "    \"\"\"\n",
    "    >>> convert_fahrenheit_to_celsius(212)\n",
    "    100.0\n",
    "    >>> convert_fahrenheit_to_celsius(32)\n",
    "    0.0\n",
    "    \"\"\"\n",
    "    ### BEGIN SOLUTION\n",
    "    \n",
    "    celsius = float((x-32)*5/9)\n",
    "    return celsius\n",
    "    \n",
    "    ### END SOLUTION"
   ]
  },
  {
   "cell_type": "markdown",
   "metadata": {},
   "source": [
    "## 02. Define a function named `calculate_bmi(height, weight)` which calculates BMI according to heights in meters and weights in kilograms.\n",
    "\n",
    "\\begin{equation}\n",
    "BMI = \\frac{weight_{kg}}{height_{m}^2}\n",
    "\\end{equation}\n",
    "\n",
    "Source: <https://en.wikipedia.org/wiki/Body_mass_index>\n",
    "\n",
    "- Expected inputs：2 numerics `height` and `weight`.\n",
    "- Expected outputs：a numeric."
   ]
  },
  {
   "cell_type": "code",
   "execution_count": 3,
   "metadata": {},
   "outputs": [],
   "source": [
    "def calculate_bmi(height, weight):\n",
    "    \"\"\"\n",
    "    >>> calculate_bmi(216, 147) # Shaquille O'Neal in his prime\n",
    "    31.507201646090532\n",
    "    >>> calculate_bmi(206, 113) # LeBron James\n",
    "    26.628334433028563\n",
    "    >>> calculate_bmi(211, 110) # Giannis Antetokounmpo\n",
    "    24.70744143213315\n",
    "    \"\"\"\n",
    "    ### BEGIN SOLUTION\n",
    "    \n",
    "    bmi = float(weight/(height/100)**2)\n",
    "    return bmi\n",
    "    \n",
    "    ### END SOLUTION"
   ]
  },
  {
   "cell_type": "markdown",
   "metadata": {},
   "source": [
    "## 03. Define a function named `show_big_mac_index(country, currency, price)` which returns the Big Mac Index given a country, its currency, and the price of a Big Mac. \n",
    "\n",
    "- Expected inputs：2 strings and a numeric.\n",
    "- Expected outputs：a string."
   ]
  },
  {
   "cell_type": "code",
   "execution_count": 4,
   "metadata": {},
   "outputs": [],
   "source": [
    "def show_big_mac_index(country, currency, price):\n",
    "    \"\"\"\n",
    "    >>> show_big_mac_index('US', 'USD', 5.65)\n",
    "    A Big Mac costs 5.65 USD in US.\n",
    "    >>> show_big_mac_index('South Korea', 'Won', 6520)\n",
    "    A Big Mac costs 6,520.00 Won in South Korea.\n",
    "    >>> show_big_mac_index('Taiwan', 'NTD', 72)\n",
    "    A Big Mac costs 72.00 NTD in Taiwan.\n",
    "    \"\"\"\n",
    "    ### BEGIN SOLUTION\n",
    "    \n",
    "    index = str(\"A Big Mac costs \" + format(price, \".2f\") + \" \" + str(currency) + \" in \" + str(country) + \".\")\n",
    "    return index\n",
    "    \n",
    "    ### END SOLUTION"
   ]
  },
  {
   "cell_type": "markdown",
   "metadata": {},
   "source": [
    "## 04. Define a function named `is_a_divisor(x, y)` which returns whether `x` is a is_a_divisor of `y` or not.\n",
    "\n",
    "- Expected inputs：2 integers.\n",
    "- Expected outputs：a boolean."
   ]
  },
  {
   "cell_type": "code",
   "execution_count": 5,
   "metadata": {},
   "outputs": [],
   "source": [
    "def is_a_divisor(x, y):\n",
    "    \"\"\"\n",
    "    >>> is_a_divisor(1, 3)\n",
    "    True\n",
    "    >>> is_a_divisor(2, 3)\n",
    "    False\n",
    "    >>> is_a_divisor(3, 3)\n",
    "    True\n",
    "    >>> is_a_divisor(1, 4)\n",
    "    True\n",
    "    >>> is_a_divisor(2, 4)\n",
    "    True\n",
    "    >>> is_a_divisor(3, 4)\n",
    "    False\n",
    "    >>> is_a_divisor(4, 4)\n",
    "    True\n",
    "    \"\"\"\n",
    "    ### BEGIN SOLUTION\n",
    "    \n",
    "    if y % x == 0:\n",
    "        return True\n",
    "    else:\n",
    "        return False\n",
    "    \n",
    "    ### END SOLUTION"
   ]
  },
  {
   "cell_type": "markdown",
   "metadata": {},
   "source": [
    "## 05. Define a function named `contains_vowels(x)` which returns whether x contains one of the vowels: a, e, i, o, u or not.\n",
    "\n",
    "- Expected inputs：a string.\n",
    "- Expected outputs：a boolean."
   ]
  },
  {
   "cell_type": "code",
   "execution_count": 6,
   "metadata": {},
   "outputs": [],
   "source": [
    "def contains_vowels(x):\n",
    "    \"\"\"\n",
    "    >>> contains_vowels('pythn')\n",
    "    False\n",
    "    >>> contains_vowels('ncnd')\n",
    "    False\n",
    "    >>> contains_vowels('rtclt')\n",
    "    False\n",
    "    >>> contains_vowels('python')\n",
    "    True\n",
    "    >>> contains_vowels('anaconda')\n",
    "    True\n",
    "    >>> contains_vowels('reticulate')\n",
    "    True\n",
    "    \"\"\"\n",
    "    ### BEGIN SOLUTION\n",
    "    \n",
    "    str = x\n",
    "    if 'a' in str:\n",
    "        return True\n",
    "    elif 'e' in str:\n",
    "        return True\n",
    "    elif 'i' in str:\n",
    "        return True\n",
    "    elif 'o' in str:\n",
    "        return True\n",
    "    elif 'u' in str:\n",
    "        return True\n",
    "    else:\n",
    "        return False\n",
    "    \n",
    "    ### END SOLUTION"
   ]
  },
  {
   "cell_type": "markdown",
   "metadata": {
    "deletable": false,
    "editable": false
   },
   "source": [
    "## Run tests!\n",
    "\n",
    "Kernel -> Restart & Run All. -> Restart And Run All Cells."
   ]
  },
  {
   "cell_type": "code",
   "execution_count": 7,
   "metadata": {
    "deletable": false,
    "editable": false
   },
   "outputs": [
    {
     "name": "stderr",
     "output_type": "stream",
     "text": [
      "test_01_convert_fahrenheit_to_celsius (__main__.TestHomeworkZero) ... ok\n",
      "test_02_calculate_bmi (__main__.TestHomeworkZero) ... ok\n",
      "test_03_show_big_mac_index (__main__.TestHomeworkZero) ... FAIL\n",
      "test_04_is_a_divisor (__main__.TestHomeworkZero) ... ok\n",
      "test_05_contains_vowels (__main__.TestHomeworkZero) ... ok\n",
      "\n",
      "======================================================================\n",
      "FAIL: test_03_show_big_mac_index (__main__.TestHomeworkZero)\n",
      "----------------------------------------------------------------------\n",
      "Traceback (most recent call last):\n",
      "  File \"<ipython-input-7-3956706caa60>\", line 14, in test_03_show_big_mac_index\n",
      "    self.assertEqual(show_big_mac_index('South Korea', 'Won', 6520), 'A Big Mac costs 6,520.00 Won in South Korea.')\n",
      "AssertionError: 'A Big Mac costs 6520.00 Won in South Korea.' != 'A Big Mac costs 6,520.00 Won in South Korea.'\n",
      "- A Big Mac costs 6520.00 Won in South Korea.\n",
      "+ A Big Mac costs 6,520.00 Won in South Korea.\n",
      "?                  +\n",
      "\n",
      "\n",
      "----------------------------------------------------------------------\n",
      "Ran 5 tests in 0.009s\n",
      "\n",
      "FAILED (failures=1)\n"
     ]
    }
   ],
   "source": [
    "class TestHomeworkZero(unittest.TestCase):\n",
    "    def test_01_convert_fahrenheit_to_celsius(self):\n",
    "        self.assertAlmostEqual(convert_fahrenheit_to_celsius(212), 100.0)\n",
    "        self.assertAlmostEqual(convert_fahrenheit_to_celsius(32), 0.0)\n",
    "    def test_02_calculate_bmi(self):\n",
    "        self.assertTrue(calculate_bmi(216, 147) > 31)\n",
    "        self.assertTrue(calculate_bmi(216, 147) < 32)\n",
    "        self.assertTrue(calculate_bmi(206, 113) > 26)\n",
    "        self.assertTrue(calculate_bmi(206, 113) < 27)\n",
    "        self.assertTrue(calculate_bmi(211, 110) > 24)\n",
    "        self.assertTrue(calculate_bmi(211, 110) < 25)\n",
    "    def test_03_show_big_mac_index(self):\n",
    "        self.assertEqual(show_big_mac_index('US', 'USD', 5.65), 'A Big Mac costs 5.65 USD in US.')\n",
    "        self.assertEqual(show_big_mac_index('South Korea', 'Won', 6520), 'A Big Mac costs 6,520.00 Won in South Korea.')\n",
    "        self.assertEqual(show_big_mac_index('Taiwan', 'NTD', 72), 'A Big Mac costs 72.00 NTD in Taiwan.')\n",
    "    def test_04_is_a_divisor(self):\n",
    "        self.assertTrue(is_a_divisor(1, 2))\n",
    "        self.assertTrue(is_a_divisor(2, 2))\n",
    "        self.assertTrue(is_a_divisor(1, 3))\n",
    "        self.assertFalse(is_a_divisor(2, 3))\n",
    "        self.assertTrue(is_a_divisor(1, 4))\n",
    "        self.assertTrue(is_a_divisor(2, 4))\n",
    "        self.assertFalse(is_a_divisor(3, 4))\n",
    "        self.assertTrue(is_a_divisor(4, 4))\n",
    "    def test_05_contains_vowels(self):\n",
    "        self.assertFalse(contains_vowels('pythn'))\n",
    "        self.assertFalse(contains_vowels('ncnd'))\n",
    "        self.assertFalse(contains_vowels('rtclt'))\n",
    "        self.assertTrue(contains_vowels('python'))\n",
    "        self.assertTrue(contains_vowels('anaconda'))\n",
    "        self.assertTrue(contains_vowels('reticulate'))\n",
    "\n",
    "suite = unittest.TestLoader().loadTestsFromTestCase(TestHomeworkZero)\n",
    "runner = unittest.TextTestRunner(verbosity=2)\n",
    "test_results = runner.run(suite)\n",
    "number_of_failures = len(test_results.failures)\n",
    "number_of_errors = len(test_results.errors)\n",
    "number_of_test_runs = test_results.testsRun\n",
    "number_of_successes = number_of_test_runs - (number_of_failures + number_of_errors)"
   ]
  },
  {
   "cell_type": "code",
   "execution_count": 8,
   "metadata": {
    "deletable": false,
    "editable": false
   },
   "outputs": [
    {
     "name": "stdout",
     "output_type": "stream",
     "text": [
      "You've got 4 successes among 5 questions.\n"
     ]
    }
   ],
   "source": [
    "print(\"You've got {} successes among {} questions.\".format(number_of_successes, number_of_test_runs))"
   ]
  }
 ],
 "metadata": {
  "kernelspec": {
   "display_name": "Python 3",
   "language": "python",
   "name": "python3"
  },
  "language_info": {
   "codemirror_mode": {
    "name": "ipython",
    "version": 3
   },
   "file_extension": ".py",
   "mimetype": "text/x-python",
   "name": "python",
   "nbconvert_exporter": "python",
   "pygments_lexer": "ipython3",
   "version": "3.7.3"
  }
 },
 "nbformat": 4,
 "nbformat_minor": 4
}
